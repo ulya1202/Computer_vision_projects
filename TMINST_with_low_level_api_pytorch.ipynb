{
  "nbformat": 4,
  "nbformat_minor": 0,
  "metadata": {
    "colab": {
      "provenance": [],
      "gpuType": "T4",
      "include_colab_link": true
    },
    "kernelspec": {
      "name": "python3",
      "display_name": "Python 3"
    },
    "language_info": {
      "name": "python"
    },
    "accelerator": "GPU",
    "widgets": {
      "application/vnd.jupyter.widget-state+json": {
        "6648b48aaad642caa473154f077d5c20": {
          "model_module": "@jupyter-widgets/controls",
          "model_name": "HBoxModel",
          "model_module_version": "1.5.0",
          "state": {
            "_dom_classes": [],
            "_model_module": "@jupyter-widgets/controls",
            "_model_module_version": "1.5.0",
            "_model_name": "HBoxModel",
            "_view_count": null,
            "_view_module": "@jupyter-widgets/controls",
            "_view_module_version": "1.5.0",
            "_view_name": "HBoxView",
            "box_style": "",
            "children": [
              "IPY_MODEL_3931f7ddf07b4e95b6aebde8e20ff916",
              "IPY_MODEL_16461e1fc5d04937b53571fe7e08e33a",
              "IPY_MODEL_e6b3ab086aef498d97311baac061a066"
            ],
            "layout": "IPY_MODEL_33aa9b9cf59741a2a9a49dea62fca3f4"
          }
        },
        "3931f7ddf07b4e95b6aebde8e20ff916": {
          "model_module": "@jupyter-widgets/controls",
          "model_name": "HTMLModel",
          "model_module_version": "1.5.0",
          "state": {
            "_dom_classes": [],
            "_model_module": "@jupyter-widgets/controls",
            "_model_module_version": "1.5.0",
            "_model_name": "HTMLModel",
            "_view_count": null,
            "_view_module": "@jupyter-widgets/controls",
            "_view_module_version": "1.5.0",
            "_view_name": "HTMLView",
            "description": "",
            "description_tooltip": null,
            "layout": "IPY_MODEL_0f17b63d1d104f1db727724e1a9c1657",
            "placeholder": "​",
            "style": "IPY_MODEL_c81778b5064a411fad9ea29320b56f2f",
            "value": "100%"
          }
        },
        "16461e1fc5d04937b53571fe7e08e33a": {
          "model_module": "@jupyter-widgets/controls",
          "model_name": "FloatProgressModel",
          "model_module_version": "1.5.0",
          "state": {
            "_dom_classes": [],
            "_model_module": "@jupyter-widgets/controls",
            "_model_module_version": "1.5.0",
            "_model_name": "FloatProgressModel",
            "_view_count": null,
            "_view_module": "@jupyter-widgets/controls",
            "_view_module_version": "1.5.0",
            "_view_name": "ProgressView",
            "bar_style": "",
            "description": "",
            "description_tooltip": null,
            "layout": "IPY_MODEL_d05bad30e8da4836a5d6acd6d388ded1",
            "max": 655,
            "min": 0,
            "orientation": "horizontal",
            "style": "IPY_MODEL_ab11aa7dd2954256b7e817ff5631155b",
            "value": 655
          }
        },
        "e6b3ab086aef498d97311baac061a066": {
          "model_module": "@jupyter-widgets/controls",
          "model_name": "HTMLModel",
          "model_module_version": "1.5.0",
          "state": {
            "_dom_classes": [],
            "_model_module": "@jupyter-widgets/controls",
            "_model_module_version": "1.5.0",
            "_model_name": "HTMLModel",
            "_view_count": null,
            "_view_module": "@jupyter-widgets/controls",
            "_view_module_version": "1.5.0",
            "_view_name": "HTMLView",
            "description": "",
            "description_tooltip": null,
            "layout": "IPY_MODEL_f6db9ee47a394a8cac39b4de850ead04",
            "placeholder": "​",
            "style": "IPY_MODEL_8e2d191bfd474a5184ddfb2263cd27b7",
            "value": " 655/655 [00:49&lt;00:00, 20.76it/s]"
          }
        },
        "33aa9b9cf59741a2a9a49dea62fca3f4": {
          "model_module": "@jupyter-widgets/base",
          "model_name": "LayoutModel",
          "model_module_version": "1.2.0",
          "state": {
            "_model_module": "@jupyter-widgets/base",
            "_model_module_version": "1.2.0",
            "_model_name": "LayoutModel",
            "_view_count": null,
            "_view_module": "@jupyter-widgets/base",
            "_view_module_version": "1.2.0",
            "_view_name": "LayoutView",
            "align_content": null,
            "align_items": null,
            "align_self": null,
            "border": null,
            "bottom": null,
            "display": null,
            "flex": null,
            "flex_flow": null,
            "grid_area": null,
            "grid_auto_columns": null,
            "grid_auto_flow": null,
            "grid_auto_rows": null,
            "grid_column": null,
            "grid_gap": null,
            "grid_row": null,
            "grid_template_areas": null,
            "grid_template_columns": null,
            "grid_template_rows": null,
            "height": null,
            "justify_content": null,
            "justify_items": null,
            "left": null,
            "margin": null,
            "max_height": null,
            "max_width": null,
            "min_height": null,
            "min_width": null,
            "object_fit": null,
            "object_position": null,
            "order": null,
            "overflow": null,
            "overflow_x": null,
            "overflow_y": null,
            "padding": null,
            "right": null,
            "top": null,
            "visibility": null,
            "width": null
          }
        },
        "0f17b63d1d104f1db727724e1a9c1657": {
          "model_module": "@jupyter-widgets/base",
          "model_name": "LayoutModel",
          "model_module_version": "1.2.0",
          "state": {
            "_model_module": "@jupyter-widgets/base",
            "_model_module_version": "1.2.0",
            "_model_name": "LayoutModel",
            "_view_count": null,
            "_view_module": "@jupyter-widgets/base",
            "_view_module_version": "1.2.0",
            "_view_name": "LayoutView",
            "align_content": null,
            "align_items": null,
            "align_self": null,
            "border": null,
            "bottom": null,
            "display": null,
            "flex": null,
            "flex_flow": null,
            "grid_area": null,
            "grid_auto_columns": null,
            "grid_auto_flow": null,
            "grid_auto_rows": null,
            "grid_column": null,
            "grid_gap": null,
            "grid_row": null,
            "grid_template_areas": null,
            "grid_template_columns": null,
            "grid_template_rows": null,
            "height": null,
            "justify_content": null,
            "justify_items": null,
            "left": null,
            "margin": null,
            "max_height": null,
            "max_width": null,
            "min_height": null,
            "min_width": null,
            "object_fit": null,
            "object_position": null,
            "order": null,
            "overflow": null,
            "overflow_x": null,
            "overflow_y": null,
            "padding": null,
            "right": null,
            "top": null,
            "visibility": null,
            "width": null
          }
        },
        "c81778b5064a411fad9ea29320b56f2f": {
          "model_module": "@jupyter-widgets/controls",
          "model_name": "DescriptionStyleModel",
          "model_module_version": "1.5.0",
          "state": {
            "_model_module": "@jupyter-widgets/controls",
            "_model_module_version": "1.5.0",
            "_model_name": "DescriptionStyleModel",
            "_view_count": null,
            "_view_module": "@jupyter-widgets/base",
            "_view_module_version": "1.2.0",
            "_view_name": "StyleView",
            "description_width": ""
          }
        },
        "d05bad30e8da4836a5d6acd6d388ded1": {
          "model_module": "@jupyter-widgets/base",
          "model_name": "LayoutModel",
          "model_module_version": "1.2.0",
          "state": {
            "_model_module": "@jupyter-widgets/base",
            "_model_module_version": "1.2.0",
            "_model_name": "LayoutModel",
            "_view_count": null,
            "_view_module": "@jupyter-widgets/base",
            "_view_module_version": "1.2.0",
            "_view_name": "LayoutView",
            "align_content": null,
            "align_items": null,
            "align_self": null,
            "border": null,
            "bottom": null,
            "display": null,
            "flex": null,
            "flex_flow": null,
            "grid_area": null,
            "grid_auto_columns": null,
            "grid_auto_flow": null,
            "grid_auto_rows": null,
            "grid_column": null,
            "grid_gap": null,
            "grid_row": null,
            "grid_template_areas": null,
            "grid_template_columns": null,
            "grid_template_rows": null,
            "height": null,
            "justify_content": null,
            "justify_items": null,
            "left": null,
            "margin": null,
            "max_height": null,
            "max_width": null,
            "min_height": null,
            "min_width": null,
            "object_fit": null,
            "object_position": null,
            "order": null,
            "overflow": null,
            "overflow_x": null,
            "overflow_y": null,
            "padding": null,
            "right": null,
            "top": null,
            "visibility": null,
            "width": null
          }
        },
        "ab11aa7dd2954256b7e817ff5631155b": {
          "model_module": "@jupyter-widgets/controls",
          "model_name": "ProgressStyleModel",
          "model_module_version": "1.5.0",
          "state": {
            "_model_module": "@jupyter-widgets/controls",
            "_model_module_version": "1.5.0",
            "_model_name": "ProgressStyleModel",
            "_view_count": null,
            "_view_module": "@jupyter-widgets/base",
            "_view_module_version": "1.2.0",
            "_view_name": "StyleView",
            "bar_color": null,
            "description_width": ""
          }
        },
        "f6db9ee47a394a8cac39b4de850ead04": {
          "model_module": "@jupyter-widgets/base",
          "model_name": "LayoutModel",
          "model_module_version": "1.2.0",
          "state": {
            "_model_module": "@jupyter-widgets/base",
            "_model_module_version": "1.2.0",
            "_model_name": "LayoutModel",
            "_view_count": null,
            "_view_module": "@jupyter-widgets/base",
            "_view_module_version": "1.2.0",
            "_view_name": "LayoutView",
            "align_content": null,
            "align_items": null,
            "align_self": null,
            "border": null,
            "bottom": null,
            "display": null,
            "flex": null,
            "flex_flow": null,
            "grid_area": null,
            "grid_auto_columns": null,
            "grid_auto_flow": null,
            "grid_auto_rows": null,
            "grid_column": null,
            "grid_gap": null,
            "grid_row": null,
            "grid_template_areas": null,
            "grid_template_columns": null,
            "grid_template_rows": null,
            "height": null,
            "justify_content": null,
            "justify_items": null,
            "left": null,
            "margin": null,
            "max_height": null,
            "max_width": null,
            "min_height": null,
            "min_width": null,
            "object_fit": null,
            "object_position": null,
            "order": null,
            "overflow": null,
            "overflow_x": null,
            "overflow_y": null,
            "padding": null,
            "right": null,
            "top": null,
            "visibility": null,
            "width": null
          }
        },
        "8e2d191bfd474a5184ddfb2263cd27b7": {
          "model_module": "@jupyter-widgets/controls",
          "model_name": "DescriptionStyleModel",
          "model_module_version": "1.5.0",
          "state": {
            "_model_module": "@jupyter-widgets/controls",
            "_model_module_version": "1.5.0",
            "_model_name": "DescriptionStyleModel",
            "_view_count": null,
            "_view_module": "@jupyter-widgets/base",
            "_view_module_version": "1.2.0",
            "_view_name": "StyleView",
            "description_width": ""
          }
        }
      }
    }
  },
  "cells": [
    {
      "cell_type": "markdown",
      "metadata": {
        "id": "view-in-github",
        "colab_type": "text"
      },
      "source": [
        "<a href=\"https://colab.research.google.com/github/ulya1202/Computer_vision_projects/blob/main/TMINST_with_low_level_api_pytorch.ipynb\" target=\"_parent\"><img src=\"https://colab.research.google.com/assets/colab-badge.svg\" alt=\"Open In Colab\"/></a>"
      ]
    },
    {
      "cell_type": "markdown",
      "source": [
        "#TMNIST"
      ],
      "metadata": {
        "id": "8lA0lo9sd7Hq"
      }
    },
    {
      "cell_type": "markdown",
      "source": [
        "##Import"
      ],
      "metadata": {
        "id": "685H43XGdX6k"
      }
    },
    {
      "cell_type": "code",
      "source": [
        "from tqdm.auto import tqdm"
      ],
      "metadata": {
        "id": "h4FB51z1wWIj"
      },
      "execution_count": null,
      "outputs": []
    },
    {
      "cell_type": "code",
      "source": [
        "import pandas as pd\n",
        "import torch.nn\n",
        "import numpy as np\n",
        "import torch\n",
        "from torch.utils.data import Dataset, DataLoader"
      ],
      "metadata": {
        "id": "0ElL-Qkq3iEM"
      },
      "execution_count": null,
      "outputs": []
    },
    {
      "cell_type": "code",
      "source": [
        "from accelerate import Accelerator"
      ],
      "metadata": {
        "id": "S-ErB-MTnU6S"
      },
      "execution_count": null,
      "outputs": []
    },
    {
      "cell_type": "code",
      "source": [
        "!pip install torcheval"
      ],
      "metadata": {
        "colab": {
          "base_uri": "https://localhost:8080/"
        },
        "id": "Wwa_-DK7nfU0",
        "outputId": "1de881b4-203e-4344-9458-5a6e26b0912b"
      },
      "execution_count": null,
      "outputs": [
        {
          "output_type": "stream",
          "name": "stdout",
          "text": [
            "Collecting torcheval\n",
            "  Downloading torcheval-0.0.7-py3-none-any.whl.metadata (8.6 kB)\n",
            "Requirement already satisfied: typing-extensions in /usr/local/lib/python3.11/dist-packages (from torcheval) (4.14.0)\n",
            "Downloading torcheval-0.0.7-py3-none-any.whl (179 kB)\n",
            "\u001b[?25l   \u001b[90m━━━━━━━━━━━━━━━━━━━━━━━━━━━━━━━━━━━━━━━━\u001b[0m \u001b[32m0.0/179.2 kB\u001b[0m \u001b[31m?\u001b[0m eta \u001b[36m-:--:--\u001b[0m\r\u001b[2K   \u001b[90m━━━━━━━━━━━━━━━━━━━━━━━━━━━━━━━━━━━━━━━━\u001b[0m \u001b[32m179.2/179.2 kB\u001b[0m \u001b[31m5.3 MB/s\u001b[0m eta \u001b[36m0:00:00\u001b[0m\n",
            "\u001b[?25hInstalling collected packages: torcheval\n",
            "Successfully installed torcheval-0.0.7\n"
          ]
        }
      ]
    },
    {
      "cell_type": "code",
      "source": [
        "import torcheval\n",
        "import torcheval.metrics"
      ],
      "metadata": {
        "id": "7ATBnUTWnbOh"
      },
      "execution_count": null,
      "outputs": []
    },
    {
      "cell_type": "code",
      "source": [
        "import torch.nn"
      ],
      "metadata": {
        "id": "1PIc2E5XegTP"
      },
      "execution_count": null,
      "outputs": []
    },
    {
      "cell_type": "code",
      "source": [
        "import matplotlib.pyplot as plt"
      ],
      "metadata": {
        "id": "lQz34yO7UoIS"
      },
      "execution_count": null,
      "outputs": []
    },
    {
      "cell_type": "code",
      "execution_count": null,
      "metadata": {
        "colab": {
          "base_uri": "https://localhost:8080/"
        },
        "id": "cLnc4cwiq54T",
        "outputId": "a6147b13-30ea-45e1-bf12-eb854e152eaf"
      },
      "outputs": [
        {
          "output_type": "stream",
          "name": "stdout",
          "text": [
            "  % Total    % Received % Xferd  Average Speed   Time    Time     Time  Current\n",
            "                                 Dload  Upload   Total   Spent    Left  Speed\n",
            "  0     0    0     0    0     0      0      0 --:--:-- --:--:-- --:--:--     0\n",
            "100 8261k  100 8261k    0     0  8095k      0  0:00:01  0:00:01 --:--:-- 34.9M\n"
          ]
        }
      ],
      "source": [
        "\n",
        "!curl -L -o tmnist-typeface-mnist.zip  https://www.kaggle.com/api/v1/datasets/download/nimishmagre/tmnist-typeface-mnist"
      ]
    },
    {
      "cell_type": "code",
      "source": [
        "!unzip /content/tmnist-typeface-mnist.zip"
      ],
      "metadata": {
        "colab": {
          "base_uri": "https://localhost:8080/"
        },
        "id": "wRgzkta0q_VU",
        "outputId": "a59b5414-ae23-4d51-f957-25fba6ab6da6"
      },
      "execution_count": null,
      "outputs": [
        {
          "output_type": "stream",
          "name": "stdout",
          "text": [
            "Archive:  /content/tmnist-typeface-mnist.zip\n",
            "  inflating: TMNIST_Data.csv         \n"
          ]
        }
      ]
    },
    {
      "cell_type": "markdown",
      "source": [
        "## Functions"
      ],
      "metadata": {
        "id": "zuVbUiNOeFF8"
      }
    },
    {
      "cell_type": "code",
      "source": [
        "def split_data(df,test_size=0.15, val_size=0.15):\n",
        "    l=len(df)\n",
        "    total_eval_size=test_size+val_size\n",
        "    train_size=1-total_eval_size\n",
        "    df.sample(frac=1).reset_index(drop=True)\n",
        "    last_i=int(l*train_size)\n",
        "    train_df=df[:last_i]\n",
        "    val_df=None\n",
        "    test_df=None\n",
        "    if total_eval_size==0:\n",
        "        return train_df\n",
        "    if val_size:\n",
        "        val_df=df[last_i:last_i+int(l*val_size)]\n",
        "    if test_size:\n",
        "        if val_size: last_i=last_i+int(l*val_size)\n",
        "        test_df=df[last_i:last_i+int(l*test_size)]\n",
        "\n",
        "    return  train_df, val_df, test_df\n",
        "\n",
        "\n"
      ],
      "metadata": {
        "id": "yGYeKdf-P2NY"
      },
      "execution_count": null,
      "outputs": []
    },
    {
      "cell_type": "markdown",
      "source": [
        "## Classes"
      ],
      "metadata": {
        "id": "xFERTIQueITI"
      }
    },
    {
      "cell_type": "markdown",
      "source": [
        "### DataSet classe"
      ],
      "metadata": {
        "id": "tp7ZJ3x_eMBR"
      }
    },
    {
      "cell_type": "code",
      "source": [
        "class CustomDataset(Dataset):\n",
        "    def __init__(self, file,transform_img=None, custom_transform=None):\n",
        "        super().__init__()\n",
        "        self.data=file\n",
        "        self.imgs=self.data.iloc[:,2:].to_numpy()\n",
        "        self.labels=self.data.iloc[:,1].to_numpy()\n",
        "        self.transform_img=transform_img\n",
        "        self.custom_transform=custom_transform\n",
        "\n",
        "        self.features=self.imgs.shape[-1]\n",
        "        self.img_width=int(self.features**0.5)\n",
        "\n",
        "\n",
        "\n",
        "    def __len__(self):\n",
        "        return len(self.labels)\n",
        "\n",
        "    def _transform(self,img):\n",
        "        if img.ndim==1:\n",
        "            img=img.reshape(self.img_width,self.img_width)\n",
        "        img = img.astype(np.float32) / 255.0\n",
        "\n",
        "        return img\n",
        "    def plot(self, index_list=None, cmap='gray', h=None, w=None, axis='off'):\n",
        "        if h==None or w==None:\n",
        "            h=int(np.ceil(len(index_list)**0.5))\n",
        "            w=len(index_list)//h\n",
        "        for i,idx in enumerate(index_list):\n",
        "            img=self.reshape_me(self.imgs[idx])\n",
        "            plt.subplot(h,w,i+1)\n",
        "            plt.imshow(img, cmap=cmap)\n",
        "            plt.title(f'label:{self.labels[idx]}')\n",
        "            plt.axis(axis)\n",
        "\n",
        "\n",
        "    def reshape_me(self, img):\n",
        "        if img.ndim==1 :\n",
        "            img=img.reshape(self.img_width,self.img_width)\n",
        "        return img\n",
        "\n",
        "\n",
        "\n",
        "    def __getitem__(self, idx):\n",
        "        if self.transform_img:\n",
        "            img=self._transform(self.imgs[idx])\n",
        "        elif self.custom_transform:\n",
        "            img=self.custom_transform(self.imgs[idx])\n",
        "        else:\n",
        "            img=self.imgs[idx]\n",
        "\n",
        "        t_img=torch.tensor(np.atleast_3d(self.reshape_me(img)),dtype=torch.float32)\n",
        "        if img.ndim<=2:\n",
        "            t_img=t_img.permute(2,1,0)\n",
        "\n",
        "\n",
        "        label=torch.tensor(self.labels[idx], dtype=torch.long)\n",
        "\n",
        "        return t_img, label"
      ],
      "metadata": {
        "id": "eRGaVxZt4uDb"
      },
      "execution_count": null,
      "outputs": []
    },
    {
      "cell_type": "markdown",
      "source": [
        "### Model Classes"
      ],
      "metadata": {
        "id": "6pt37LTeeRGK"
      }
    },
    {
      "cell_type": "code",
      "source": [
        "#extra information about nn.Conv2d:\n",
        "# | Parametr       | İzah                                                       | #GROUPS!!--> bu qruplashdirir cannel uzre , 1 olarsa demeli butun shekile 1 qrup kimi baxir ve 1 filtr tetbiq edir\n",
        "# | -------------- | ---------------------------------------------------------- |                      |___>eger 2 olarsa channaleri 2 qrupa bolur, ve tutalim 1 ci ve 2 ci ni bir filtr, 3 ve 4 cunu bashqa filtrden kecirir\n",
        "# | `in_channels`  | Girişdəki kanal sayı (məs: RGB → 3)                        |                       |____>bele cixir ki eger men butun daxil olan chanallerin sayina berebr etsem qruplashdirami , o bher chanellea ari filtr tetebiq eder, bu ise deptwise sayilir\n",
        "# | `out_channels` | İstədiyin çıxış kanal sayı (məs: 16 filtr)                 | ###  adi\n",
        "# | `kernel_size`  | Hər filtrin ölçüsü: 3, 5 və s. (kvadrat və ya `(h, w)`)    |  Input Channel 1 ─┐           ┌─> Output Channel 1    ## Depthwise-->nn.Conv2d(in_channels=C, out_channels=C, kernel_size=3, groups=C)\n",
        "# | `stride`       | Filtrin neçə-neçə addımla getməsidir. (default: 1)         |  Input Channel 2 ─┼─> Filter ─┤                           ##PointWise-->nn.Conv2d(in_channels=C, out_channels=C*K, kernel_size=1)\n",
        "# | `padding`      | Şəklin kənarına sıfır əlavə olunması. “same” ölçü saxlayar |  Input Channel 3 ─┘           └─> Output Channel 2\n",
        "# | `dilation`     | Filtr elementləri arasına boşluq qoyar                     | ####deptwise group=in_channel\n",
        "# | `groups`       | 1: normal conv. `groups=Cin` → depthwise convolution       |   Input Channel 1 ─> Filter 1 ─> Output Channel 1\n",
        "# | `bias`         | Hər filtrin əlavə sabit bias dəyəri                        |   Input Channel 2 ─> Filter 2 ─> Output Channel 2\n",
        "#                                                                                   Input Channel 3 ─> Filter 3 ─> Output Channel 3\n",
        "#PyTorch istifadə edirsənsə: şəkli [C, H, W] formatına gətir.(C-channale)\n",
        "#TensorFlow istifadə edirsənsə: şəkil [H, W, C] formatında olmalıdır.\n"
      ],
      "metadata": {
        "id": "HKqZCDdU8jAS"
      },
      "execution_count": null,
      "outputs": []
    },
    {
      "cell_type": "code",
      "source": [
        "import torch\n",
        "\n",
        "class MySimplestModel(torch.nn.Module):\n",
        "    def __init__(self, input_shape, num_classes):\n",
        "        super().__init__()\n",
        "        self.chan=input_shape[-3]\n",
        "        self.batch_norm=torch.nn.BatchNorm2d(self.chan)\n",
        "        self.conv_1=torch.nn.Conv2d(self.chan, 128, kernel_size=7, padding='same')\n",
        "        self.conv_2=torch.nn.Conv2d(self.conv_1.out_channels, 256, kernel_size=7, padding='same')\n",
        "        self.flat=torch.nn.AdaptiveMaxPool2d((1, 1))\n",
        "        self.dense=torch.nn.Linear(256 , num_classes)\n",
        "\n",
        "    def forward(self,input):\n",
        "        x=self.batch_norm(input)\n",
        "        x=self.conv_1(x)\n",
        "        x=torch.nn.functional.relu(x)\n",
        "        x=self.conv_2(x)\n",
        "        x=torch.nn.functional.relu(x)\n",
        "        x=self.flat(x).squeeze(-1).squeeze(-1)\n",
        "        x=self.dense(x)\n",
        "        return x"
      ],
      "metadata": {
        "id": "vEzzs53wEWJV"
      },
      "execution_count": null,
      "outputs": []
    },
    {
      "cell_type": "code",
      "metadata": {
        "id": "jF8P_G2SBXrc"
      },
      "source": [
        "\n",
        "\n",
        "class MyMiddleModel(torch.nn.Module):\n",
        "    def __init__(self, input_shape, num_classes,first_out_channel=128):\n",
        "        super().__init__()\n",
        "        self.channels=input_shape[0]#bax nece bottleneck elemek oalr ve.s\n",
        "        self.h=input_shape[1]\n",
        "        self.w=input_shape[2]\n",
        "        self.num_class=num_classes\n",
        "\n",
        "        self.conv1=torch.nn.Conv2d(in_channels=self.channels, out_channels=first_out_channel,kernel_size=7, padding='same')\n",
        "        self.conv2=torch.nn.Conv2d(in_channels=self.conv1.out_channels, out_channels=self.conv1.out_channels*2,kernel_size=5, groups=self.conv1.out_channels, padding='same')\n",
        "        self.conv3=torch.nn.Conv2d(in_channels=self.conv2.out_channels, out_channels=self.conv2.out_channels, kernel_size=1, padding='same')\n",
        "\n",
        "\n",
        "        self.max_pool=torch.nn.MaxPool2d(kernel_size=self.w)\n",
        "\n",
        "        self.conv_output=torch.nn.Conv2d(in_channels=self.conv3.out_channels + self.conv1.out_channels, out_channels=self.num_class, kernel_size=1)\n",
        "        self.bn0=torch.nn.BatchNorm2d(self.channels)\n",
        "        self.bn1=torch.nn.BatchNorm2d(self.conv1.out_channels)\n",
        "        self.bn2=torch.nn.BatchNorm2d(self.conv2.out_channels)\n",
        "        self.bn3=torch.nn.BatchNorm2d(self.conv3.out_channels)\n",
        "\n",
        "\n",
        "    def forward(self, input):\n",
        "        input=self.bn0(input)\n",
        "        x=self.conv1(input)\n",
        "        x=self.bn1(x)\n",
        "        skip1=torch.nn.functional.relu(x)\n",
        "\n",
        "\n",
        "        x=self.conv2(skip1)\n",
        "        x=self.bn2(x)\n",
        "        x=torch.nn.functional.relu(x)\n",
        "\n",
        "\n",
        "        x=self.conv3(x)\n",
        "        x=self.bn3(x)\n",
        "        x=torch.nn.functional.relu(x)\n",
        "\n",
        "        x=torch.cat((x,skip1),1)\n",
        "\n",
        "        x=self.max_pool(x)\n",
        "        x=self.conv_output(x)\n",
        "        out=torch.nn.Flatten()(x)\n",
        "        return out"
      ],
      "execution_count": null,
      "outputs": []
    },
    {
      "cell_type": "code",
      "source": [
        "# class MyResNet(torch.nn.Module):\n",
        "#     def __init__(self,list_repeating, num_class, preprocess=None):\n",
        "#         super().__init__()\n",
        "#         self.list_repeating=list_repeating\n",
        "#         self.num_class=num_class\n",
        "#         self.preprocess=preprocess\n",
        "\n",
        "#     def conv_x(self,input,input_size,output_size, stride=1):\n",
        "#         x=torch.nn.Conv2d(input_size, output_size, kernel_size=3, stride=stride)(input)\n",
        "#         x=torch.nn.BatchNorm2d(output_size)(x)\n",
        "#         x=torch.nn.functions.relu(x)\n",
        "#         return x\n",
        "\n",
        "#     def conv_b(self, input, conv_block_num, stride=1):\n",
        "#         x=self.conv_x(input,conv_block_num,conv_block_num)(input)\n",
        "#         x=self.conv_x(input,conv_block_num,conv_block_num)(input)\n",
        "#         x=torch.cat((x,input), dim=-3)\n",
        "#         return x, input\n",
        "#     def block(self,x):\n",
        "#         l=[]\n",
        "#         for i, num in enumerate(self.list_repeating):\n",
        "#             for i in range(num):\n",
        "#                 l.append(64*(i+1))\n",
        "#             x,skip=self.conv_b(x,l[i])\n",
        "#             if l[i]!=l[i+1]:\n",
        "#                 skip=torch.nn.Conv2d(l[i],l[i+1],stride=2, kernel_size=1)(skip)\n",
        "#             x=torch.cat((x,skip),dim=-3)\n",
        "#             if i+2==len(l):\n",
        "#                 x,skip=self.conv_x(x,l[i],l[i])\n",
        "#         return x, l[-1]\n",
        "\n",
        "#     def forward(self,input):\n",
        "#         input_ch=input.size()[-1]\n",
        "#         if self.preprocess:\n",
        "#             x=torchvision.transforms.Resize((-1,224,224))(x)\n",
        "#         x=self.conv_x(input,input_ch,64)\n",
        "#         x=torch.nn.MaxPool2d(kernel_size=3, stride=2)(x)\n",
        "#         x=torch.cat((x,input), dim=-3)\n",
        "#         x,out_f=self.block(x)\n",
        "#         x=torch.nn.AdaptiveAvgPool2d(output_size=(1, 1))\n",
        "#         x=torch.nnLinear(in_features=out_f, out_features=self.num_class, bias=True)\n",
        "#         return x\n",
        "\n",
        "\n",
        "\n",
        "\n",
        "\n"
      ],
      "metadata": {
        "id": "5UWFgKu5z4bT"
      },
      "execution_count": null,
      "outputs": []
    },
    {
      "cell_type": "markdown",
      "source": [
        "### Trainer class"
      ],
      "metadata": {
        "id": "FubHntn7u6TS"
      }
    },
    {
      "cell_type": "code",
      "source": [
        "class Train:\n",
        "    def __init__(self, model, num_training_epochs, train_loader=None, test_loader=None, val_loader=None,\n",
        "                 optimizer=None, loss=None, lr_scheduler=None, accel=True, num_classes=None, metrics='classification'):\n",
        "        self.num_training_epochs = num_training_epochs\n",
        "        self.train_loader = train_loader\n",
        "        self.val_loader = val_loader\n",
        "        self.test_loader = test_loader\n",
        "        self.optimizer = optimizer\n",
        "        self.loss = loss\n",
        "        self.lr_scheduler = lr_scheduler\n",
        "        self.accel = accel\n",
        "        self.model = model\n",
        "        self.accelerate = Accelerator()\n",
        "        self.dic = {'train_loss': [], 'val_loss': [], 'train_loss_each_batch':[],  'val_loss_each_batch':[]}\n",
        "        self.progress_bar=None\n",
        "\n",
        "        self.num_steps_each_epoch = len(train_loader)\n",
        "        self.total_stepsize = self.num_steps_each_epoch * num_training_epochs\n",
        "        # self.progress_bar = tqdm(range(self.total_stepsize))\n",
        "\n",
        "        if accel:\n",
        "            self.model, self.train_loader, self.val_loader, self.test_loader, self.optimizer, self.lr_scheduler ,self.dic= \\\n",
        "                self.accelerate.prepare(model, train_loader, val_loader, test_loader, optimizer, lr_scheduler,self.dic)\n",
        "\n",
        "        if metrics == 'classification' and num_classes is not None:\n",
        "            self.met_name = ['f1', 'recall', 'precision', 'acc']\n",
        "            self.dic_metrics_train = {\n",
        "                'f1': torcheval.metrics.MulticlassF1Score(num_classes=num_classes),\n",
        "                'recall': torcheval.metrics.MulticlassRecall(num_classes=num_classes),\n",
        "                'precision': torcheval.metrics.MulticlassPrecision(num_classes=num_classes),\n",
        "                'acc': torcheval.metrics.MulticlassAccuracy(num_classes=num_classes)\n",
        "            }\n",
        "            self.dic_metrics_val = {\n",
        "                k: v.__class__(num_classes=num_classes) for k, v in self.dic_metrics_train.items()\n",
        "            }\n",
        "            if accel:\n",
        "                for k in self.dic_metrics_train:\n",
        "                    self.dic_metrics_train[k] = self.accelerate.prepare(self.dic_metrics_train[k])\n",
        "                    self.dic_metrics_val[k] = self.accelerate.prepare(self.dic_metrics_val[k])\n",
        "    def train_iter(self,external_data=None ):\n",
        "        self.train_loader=external_data if external_data  else self.train_loader\n",
        "        if not self.progress_bar:\n",
        "            self.progress_bar=tqdm(range(len(self.train_loader)))\n",
        "        self.model.train()\n",
        "        for i, batch in enumerate(self.train_loader):\n",
        "                  # print(f'batch_train {i+1}/{len(train_loader)}')\n",
        "                  img, label=batch\n",
        "                  output=self.model(img)\n",
        "                  losses=self.loss(output,label)\n",
        "                  self.accelerate.backward(losses)\n",
        "                  self.optimizer.step()\n",
        "                  self.optimizer.zero_grad()\n",
        "                  predicted=output.argmax(-1)\n",
        "                  self.progress_bar.update(1)\n",
        "                  if self.accel:\n",
        "                      predicted=self.accelerate.gather(predicted)\n",
        "                      label=self.accelerate.gather(label)\n",
        "                  yield  img, label, output, predicted, losses\n",
        "\n",
        "    def evaluation_loop(self, iterator_fn, metric_dic):\n",
        "\n",
        "        if not self.progress_bar:\n",
        "            self.progress_bar=tqdm(range(len(self.train_loader)))\n",
        "        losses = []\n",
        "        for img, label, output, predicted, loss in iterator_fn():\n",
        "            for metric in self.met_name:\n",
        "                metric_dic[metric].update(predicted, label)\n",
        "            losses.append(loss.item())\n",
        "        return losses\n",
        "\n",
        "    def eval_iter(self,external_data =None):\n",
        "        self.val_loader=external_data if external_data  else self.val_loader\n",
        "        if not self.progress_bar:\n",
        "            self.progress_bar=tqdm(range(len(self.train_loader)))\n",
        "        self.model.eval()\n",
        "        for batch in self.val_loader:\n",
        "                  img, label=batch\n",
        "\n",
        "                  with torch.no_grad():\n",
        "                      output=self.model(img)\n",
        "                  losses=self.loss(output,label)\n",
        "                  predicted=output.argmax(-1)\n",
        "                  losses=self.loss(output,label)\n",
        "\n",
        "                  if self.accel:\n",
        "                      predicted=self.accelerate.gather(predicted)\n",
        "                      label=self.accelerate.gather(label)\n",
        "                  yield img, label, output, predicted, losses\n",
        "\n",
        "\n",
        "\n",
        "    def train_eval(self):\n",
        "        self.progress_bar = tqdm(range(self.total_stepsize))\n",
        "        for epoch in range(self.num_training_epochs):\n",
        "            train_loss=self.evaluation_loop(self.train_iter,self.dic_metrics_train)\n",
        "            print('train ', end='=>>')\n",
        "            print(({k: v.compute().item() for k, v in self.dic_metrics_train.items()}), end='---')\n",
        "            self.dic['train_loss'].append(sum(train_loss)/len(train_loss))\n",
        "            self.dic['train_loss_each_batch'].extend(train_loss)\n",
        "            for metric in self.dic_metrics_train.values(): metric.reset()\n",
        "            if self.val_loader:\n",
        "                val_loss=self.evaluation_loop(self.eval_iter,self.dic_metrics_val)\n",
        "                print(' val ', end='=>>')\n",
        "                print(({k: v.compute().item() for k, v in self.dic_metrics_val.items()}))\n",
        "                self.dic['val_loss'].append(sum(val_loss)/len(val_loss))\n",
        "                self.dic['val_loss_each_batch'].extend(val_loss)\n",
        "                for metric in self.dic_metrics_val.values(): metric.reset()\n",
        "            print('\\n')\n",
        "        return  self.dic\n",
        "\n",
        "    def test_eval(self, external_data=None):\n",
        "        loader= external_data if external_data else self.test_loader\n",
        "        if not loader:\n",
        "            print('Test datasi elave edin !!')\n",
        "        return None, None\n",
        "        test_metrics = self.dic_metrics_val = {\n",
        "                k: v.__class__(num_classes=num_classes) for k, v in self.dic_metrics_train.items()\n",
        "            }\n",
        "        if self.accel:\n",
        "            for k in test_metrics:\n",
        "                test_metrics[k] = self.accelerate.prepare(test_metrics[k])\n",
        "        losses, metrics_result = self.evaluation_loop(self.eval_iter(loader), test_metrics)\n",
        "        for metric in self.test_metrics.values(): metric.reset()\n",
        "        print(\"Test =>\", metrics_result)\n",
        "        return losses, metrics_result"
      ],
      "metadata": {
        "id": "ZXlZO-QDu9H7"
      },
      "execution_count": null,
      "outputs": []
    },
    {
      "cell_type": "markdown",
      "source": [
        "## EDA and Splitting Data"
      ],
      "metadata": {
        "id": "P2Ph2hF1eXmr"
      }
    },
    {
      "cell_type": "code",
      "source": [
        "df=pd.read_csv('TMNIST_Data.csv')"
      ],
      "metadata": {
        "id": "9qmSNtWLvdP8"
      },
      "execution_count": null,
      "outputs": []
    },
    {
      "cell_type": "code",
      "source": [
        "train_df, val_df, test_df=split_data(df)\n",
        "train_dataset=CustomDataset(train_df, transform_img=True)\n",
        "val_dataset=CustomDataset(val_df, transform_img=True)\n",
        "test_dataset=CustomDataset(test_df, transform_img=True)\n"
      ],
      "metadata": {
        "id": "iHgEp7rdTW87"
      },
      "execution_count": null,
      "outputs": []
    },
    {
      "cell_type": "code",
      "source": [
        "batch_size=32\n",
        "train_loader=DataLoader(train_dataset, batch_size=batch_size, shuffle=True)\n",
        "test_loader=DataLoader(test_dataset, batch_size=batch_size)\n",
        "val_loader=DataLoader(val_dataset, batch_size=batch_size)"
      ],
      "metadata": {
        "id": "TF9M2dwgUE7d"
      },
      "execution_count": null,
      "outputs": []
    },
    {
      "cell_type": "code",
      "source": [
        "train_dataset.plot(index_list=[i for i in range(9)])"
      ],
      "metadata": {
        "colab": {
          "base_uri": "https://localhost:8080/",
          "height": 428
        },
        "id": "vPm3yloTF2_O",
        "outputId": "bffe7347-a55f-482f-f42c-fc670b7e866e"
      },
      "execution_count": null,
      "outputs": [
        {
          "output_type": "display_data",
          "data": {
            "text/plain": [
              "<Figure size 640x480 with 9 Axes>"
            ],
            "image/png": "[encoded data removed]"
          },
          "metadata": {}
        }
      ]
    },
    {
      "cell_type": "markdown",
      "source": [
        "## Model optimizers learning rate and.etc"
      ],
      "metadata": {
        "id": "F5FwmVMYex7A"
      }
    },
    {
      "cell_type": "markdown",
      "source": [
        "### Optimizer and other like Learning rate schedular"
      ],
      "metadata": {
        "id": "JxxR3yZk26I8"
      }
    },
    {
      "cell_type": "code",
      "source": [
        "model=MySimplestModel([1,28,28],num_classes=10)"
      ],
      "metadata": {
        "id": "SH1ZSkKH054m"
      },
      "execution_count": null,
      "outputs": []
    },
    {
      "cell_type": "code",
      "source": [
        "num_training_epochs=10\n",
        "optimizer=torch.optim.NAdam(model.parameters(), lr=0.0001)\n",
        "loss=torch.nn.CrossEntropyLoss()\n",
        "num_steps_each_epoch=len(train_loader)\n",
        "total_stepsize=num_training_epochs*num_steps_each_epoch\n",
        "\n",
        "lr_scehdular=torch.optim.lr_scheduler.OneCycleLR(optimizer,max_lr=0.01,total_steps=total_stepsize,steps_per_epoch=num_steps_each_epoch)\n",
        "\n",
        "trainer=Train(model,num_training_epochs,train_loader,test_loader ,val_loader,optimizer,loss, lr_scehdular,num_classes=10)"
      ],
      "metadata": {
        "id": "04FCWQHPoclf"
      },
      "execution_count": null,
      "outputs": []
    },
    {
      "cell_type": "code",
      "source": [
        "hist=trainer.train_eval()"
      ],
      "metadata": {
        "colab": {
          "base_uri": "https://localhost:8080/",
          "height": 121,
          "referenced_widgets": [
            "6648b48aaad642caa473154f077d5c20",
            "3931f7ddf07b4e95b6aebde8e20ff916",
            "16461e1fc5d04937b53571fe7e08e33a",
            "e6b3ab086aef498d97311baac061a066",
            "33aa9b9cf59741a2a9a49dea62fca3f4",
            "0f17b63d1d104f1db727724e1a9c1657",
            "c81778b5064a411fad9ea29320b56f2f",
            "d05bad30e8da4836a5d6acd6d388ded1",
            "ab11aa7dd2954256b7e817ff5631155b",
            "f6db9ee47a394a8cac39b4de850ead04",
            "8e2d191bfd474a5184ddfb2263cd27b7"
          ]
        },
        "id": "byo-c3t2oV65",
        "outputId": "604e3c4d-ab35-4574-e003-a9d8804775ee"
      },
      "execution_count": null,
      "outputs": [
        {
          "output_type": "display_data",
          "data": {
            "text/plain": [
              "  0%|          | 0/655 [00:00<?, ?it/s]"
            ],
            "application/vnd.jupyter.widget-view+json": {
              "version_major": 2,
              "version_minor": 0,
              "model_id": "6648b48aaad642caa473154f077d5c20"
            }
          },
          "metadata": {}
        },
        {
          "output_type": "stream",
          "name": "stdout",
          "text": [
            "train =>>{'f1': 0.998948872089386, 'recall': 0.998948872089386, 'precision': 0.998948872089386, 'acc': 0.998948872089386}--- val =>>{'f1': 0.9948717951774597, 'recall': 0.9948717951774597, 'precision': 0.9948717951774597, 'acc': 0.9948717951774597}\n",
            "\n",
            "\n"
          ]
        }
      ]
    },
    {
      "cell_type": "code",
      "source": [
        "train_losses=hist['train_loss']\n",
        "val_losses=hist['val_loss']\n",
        "plt.plot([i for i in range(len(train_losses))],train_losses)\n",
        "plt.plot([i for i in range(len(val_losses))],val_losses, c='g')\n",
        "\n",
        "\n",
        "\n",
        "plt.show()"
      ],
      "metadata": {
        "id": "ZSzw860uv8Pz"
      },
      "execution_count": null,
      "outputs": []
    }
  ]
}